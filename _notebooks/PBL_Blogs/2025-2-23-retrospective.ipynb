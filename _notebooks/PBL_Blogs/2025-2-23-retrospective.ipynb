{
 "cells": [
  {
   "cell_type": "code",
   "execution_count": null,
   "metadata": {
    "vscode": {
     "languageId": "yaml"
    }
   },
   "outputs": [],
   "source": [
    "---\n",
    "comments: true\n",
    "layout: post\n",
    "title: In Retrospect\n",
    "description: Performing Demos, receiving feedback Live reviews, N@tM reflection, and making retrospective issue(s)\n",
    "author: Alex Van Linge\n",
    "permalink: /_notebooks/PBL_Blogs/2025-2-23-retrospective.ipynb/\n",
    "categories: [PBL In Retrospect]\n",
    "---"
   ]
  },
  {
   "cell_type": "markdown",
   "metadata": {},
   "source": [
    "In this blog, I will be taking a look back at this year and all the work that I did. Mostly focusing on the games I made, the connections I had, N@TM, etc."
   ]
  },
  {
   "cell_type": "markdown",
   "metadata": {},
   "source": [
    "## Demos \n",
    "\n",
    "Working on the several games that we made throughout these two trimesters was not an easy task. There was a lot of frustration and long hours of constant work to get things working. Despite this, practically every demo that I showcased my work in, I was proud and confident that the product I was delivering was complete \n",
    "\n",
    "I think these demos and checkpoints always ensured that we were working, and taught us how to come prepared down to the smallest detail, something I imagine is very common in the workplace."
   ]
  },
  {
   "cell_type": "markdown",
   "metadata": {},
   "source": [
    "## Live Reviews and Feedback\n",
    "\n",
    "Although I probably should've used live reviews more often than I did, I still think the times I did use them definitely helped strengthen the connections with my fellow classmates, and were incredibly beneficial in creating a complete product.\n",
    "\n",
    "The feedback I recieved from collaborations with my peers and from checkpoints and reviews definitely taught me a lot in being prepared for whatever comes my way. I believe this feedback was necessary for me to grow in this class, and to understand the expectations in the class"
   ]
  },
  {
   "cell_type": "markdown",
   "metadata": {},
   "source": [
    "## N@TM Reflection\n",
    "\n",
    "N@TM was a good way for us to demonstrate our work to a large body of people that were not our normal classmates, something that I think was very important in getting us to learn the benefits of having strong presentation \n",
    "\n",
    "I do have some issues with the overall structure of the N@TM, specifically with the overall organization of it all, but the idea is definitely a strong one and the execution doesn't greatly negatively impact its intended effects."
   ]
  },
  {
   "cell_type": "markdown",
   "metadata": {},
   "source": [
    "## Making Issues \n",
    "\n",
    "I think making issues, whether it is reflecting on our Sprints our creating burndown lists was one of the most helpful things in both ideation and presenting our ideas in checkpoints\n",
    "\n",
    "Issues were also extremely helpful when collaborating with larger groups and communicating ideas between one another, and I think that they were a core component in all forms of presentation and ideation."
   ]
  },
  {
   "cell_type": "markdown",
   "metadata": {},
   "source": [
    "## Conclusion\n",
    "\n",
    "I think overall the strategies for presentation, ideation, and organization in this class that we learned were very important, not only in ensuring our success, but preparing us for the standards that are commonplace in the workforce.\n",
    "\n",
    "Even though I have some questions about just how efficient some of these strategies are in the classroom, I think that learning them and applying them will be an invaluable skill later along down the line."
   ]
  }
 ],
 "metadata": {
  "language_info": {
   "name": "python"
  }
 },
 "nbformat": 4,
 "nbformat_minor": 2
}
