{
 "cells": [
  {
   "cell_type": "code",
   "execution_count": null,
   "metadata": {
    "vscode": {
     "languageId": "yaml"
    }
   },
   "outputs": [],
   "source": [
    "---\n",
    "comments: true\n",
    "layout: post\n",
    "title: In Retrospect - Ideas\n",
    "description: What I would've added to my game\n",
    "author: Alex Van Linge\n",
    "permalink: /_notebooks/PBL_Blogs/2025-2-23-retrospective-ideation.ipynb/\n",
    "categories: [PBL In Retrospect]\n",
    "---"
   ]
  },
  {
   "cell_type": "markdown",
   "metadata": {},
   "source": [
    "In this final blog, I will discuss what changes I wish I could've made to my adventure game as a whole if I had the time."
   ]
  },
  {
   "cell_type": "markdown",
   "metadata": {},
   "source": [
    "## What I Wanted To Add\n",
    "\n",
    "Honestly, I was sooooooo ambitious when I first started working on the adventure game. I wanted to completely revamp virtually everything in the game (way too lofty, I know). Despite this, there is still probably two very big things I wish I could've implemented that I simply didn't have the time for.\n",
    "\n",
    "\n",
    "Battling:\n",
    "\n",
    "I really wanted to implement a battle system of sorts, as in my game currently, the face monster simply just \"eats\" the player, and the game is over.\n",
    "\n",
    "I wanted to have a full turn-based system, where you could attack, defend, heal, etc. While I was coding more simple features, I realized that the time investment would be ridiculous and I would most certainly not finish. Although if I had more time, I would without a doubt implement this into the game.\n",
    "\n",
    "![battle]({{site.baseurl}}/images/gamify/battle.png)\n",
    "\n",
    "\n",
    "More Interaction:\n",
    "\n",
    "Again, another lofty goal, but something else I really wanted to add was more interaction, like npc's and different collectibles. I basically wanted to make the game feel more expansive and exploration focused, but this also proved to be far too grand of an idea to be implemented. \n",
    "\n",
    "Just like the battling system, I would implement more npc's, different collectibles (including healing items, weapons, essentially a whole inventory) and so much more if I was given a lot more time. \n",
    "\n",
    "![inventory]({{site.baseurl}}/images/gamify/inventory.png)\n",
    "\n",
    "Despite all this, for the time I was given, I am still pretty proud of the game I made, and I think that I gave 100% effort in nearly every aspect"
   ]
  }
 ],
 "metadata": {
  "language_info": {
   "name": "python"
  }
 },
 "nbformat": 4,
 "nbformat_minor": 2
}
