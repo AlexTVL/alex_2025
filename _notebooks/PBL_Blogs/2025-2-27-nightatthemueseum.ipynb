{
 "cells": [
  {
   "cell_type": "code",
   "execution_count": null,
   "metadata": {
    "vscode": {
     "languageId": "yaml"
    }
   },
   "outputs": [],
   "source": [
    "---\n",
    "comments: true\n",
    "layout: post\n",
    "title: Night At The Mueseum\n",
    "description: My time at Night At The Museum!\n",
    "author: Alex Van Linge\n",
    "permalink: /_notebooks/PBL_Blogs/2025-2-27-nightatthemueseum.ipynb/\n",
    "categories: [PBL In Retrospect]\n",
    "---"
   ]
  },
  {
   "cell_type": "markdown",
   "metadata": {},
   "source": [
    "In this blog, I will talk about Night At The Mueseum and just some of the stuff that I saw that I thought was cool!"
   ]
  },
  {
   "cell_type": "markdown",
   "metadata": {},
   "source": [
    "## 3D Animation and Studio Art\n",
    "\n",
    "I saw some really cool stuff that 3D Animation and Studio Art were showing off, that if we were able to learn a bit about animation and implementing 3d stuff into the game, I think I would like to take some ideas from these people!\n",
    "\n",
    "![donut]({{site.baseurl}}/images/gamify/donut.jpg)\n",
    "![studioart1]({{site.baseurl}}/images/gamify/studioart1.jpg)\n",
    "![studioart2]({{site.baseurl}}/images/gamify/studioart2.jpg)\n",
    "![3danimation]({{site.baseurl}}/images/gamify/3danimation.jpg)"
   ]
  },
  {
   "cell_type": "markdown",
   "metadata": {},
   "source": [
    "## My Feedback\n",
    "\n",
    "While I was there, I took a look at several of the CSP and CSA projects that were around the room and was very impressed by them! Especially the one that essentially does what Synergy does (but tbh wayy better) by allowing you to enter grades, give feedback, and basically everything you can think of for entering and computing grades. Overall, i really enjoyed it! I hope that PUSD reaches out to these guys to make a new Synergy! \n",
    "\n",
    "![myfeedback]({{site.baseurl}}/images/gamify/myfeedback.jpg)"
   ]
  },
  {
   "cell_type": "markdown",
   "metadata": {},
   "source": [
    "## Bonus: Band\n",
    "\n",
    "Just a fun little bonus lol, I saw jazz band play and I was very impressed! Oak Valley wasn't nearly as talented as this, though they still tried their best. Bravo to them!\n",
    "\n",
    "![band]({{site.baseurl}}/images/gamify/band.jpg)"
   ]
  }
 ],
 "metadata": {
  "language_info": {
   "name": "python"
  }
 },
 "nbformat": 4,
 "nbformat_minor": 2
}
