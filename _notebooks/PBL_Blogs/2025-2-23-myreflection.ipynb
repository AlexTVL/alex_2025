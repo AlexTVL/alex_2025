{
 "cells": [
  {
   "cell_type": "code",
   "execution_count": null,
   "metadata": {
    "vscode": {
     "languageId": "yaml"
    }
   },
   "outputs": [],
   "source": [
    "---\n",
    "comments: true\n",
    "layout: post\n",
    "title: My Reflection\n",
    "description: My own reflection on this class\n",
    "author: Alex Van Linge\n",
    "permalink: /_notebooks/PBL_Blogs/2025-2-23-myreflection.ipynb/\n",
    "categories: [PBL In Retrospect]\n",
    "---"
   ]
  },
  {
   "cell_type": "markdown",
   "metadata": {},
   "source": [
    "This will be my final blog, and in this I will talk about my personal reflection on myself during this class and what I want to do going forward"
   ]
  },
  {
   "cell_type": "markdown",
   "metadata": {},
   "source": [
    "## My Reflection\n",
    "\n",
    "So here we are at the end of the class, and man has it been a long journey. I did quite a lot for this class, and most of it I am very proud of but some of it not so much. \n",
    "\n",
    "My strengths in the class I feel cosnsisted of how dedicated I could be to this class. I spent so many hours and a lot of commits just grinding through and getting things done. My ability to create plans I believe was probably the best application of my dedication, though my actual work could be better\n",
    "\n",
    "That would probably be my biggest weakness, I planned so much that when the inevitable roadblocks that come with coding came up, I would have to shave down my vision so much to get something that I could kind of be proud about.\n",
    "\n",
    "Following on, my lofty dreams, while great for planning, could also be a bit of a weakness when it came to actually coding as I mentioned. My grand vision would inevitably never come to fruition, but I still am proud of the products that I created regardless."
   ]
  },
  {
   "cell_type": "markdown",
   "metadata": {},
   "source": [
    "| Topic       | Points       | Explanation                |\n",
    "|--------------|---------------|----------------------------|\n",
    "| Eight Blogs | 0.91 | I made all 8 of my blogs, and I made a couple extra ones focusing on more reflection and my game as well |\n",
    "|Game Progress |0.89 | Complete revamp of second level, already showed off basically the whole thing but made some small QoL changes |\n",
    "| 5 Things in 24 Weeks  |0.9 | Reflected on 5 things, the skills I learned, my issues, the burn downs, analytics, and the 8 blogs I made |\n",
    "|Draw IO + Latest game feature | 0.9 | DrawIO is detailed, and I made a blog talking about the changes I made to the game |\n",
    "| N@TM Feedback | 0.9 |Got quite a bit of feedback on my game during N@TM, made an issue with all the feedback on it |"
   ]
  },
  {
   "cell_type": "markdown",
   "metadata": {},
   "source": [
    "## What's Next?\n",
    "\n",
    "Honestly, I don't think CompSci is the best for me to be honest. I find it intriguing and it can certainly be fun a good amount of the time. Not only that, but I have made some great memories in this class as well. Despiet this though, I am terribly impatient at times, and the fickleness of code can be very frustating at times (another weakness of mine). \n",
    "\n",
    "Who knows though? Maybe I will learn to love it later on, I certainly had a rocky relationship with it at times throughout the year, but there were times I really found a lot of enjoyment in it. Even then, the stuff I have learned is important regardless if I want to specifically focus on CompSci as a career, as just having the know-how, is bound to be a critical component later along down the line when I am trying to get a job.\n",
    "\n",
    "In short, even if I don't necessarily want to fully pursue CompSci in my academics or my career, I still think the things I learned here were very important and I am glad I took this class, no matter what direction I take in life."
   ]
  }
 ],
 "metadata": {
  "language_info": {
   "name": "python"
  }
 },
 "nbformat": 4,
 "nbformat_minor": 2
}
