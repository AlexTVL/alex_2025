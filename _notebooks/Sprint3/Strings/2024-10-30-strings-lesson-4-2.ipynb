{
 "cells": [
  {
   "cell_type": "code",
   "execution_count": null,
   "metadata": {
    "vscode": {
     "languageId": "yaml"
    }
   },
   "outputs": [],
   "source": [
    "---\n",
    "comments: true\n",
    "layout: post\n",
    "title: Strings and Functions\n",
    "description: Strings and functions\n",
    "author: Matthew Borg\n",
    "permalink: /csse/Lessons/strings/2024-10-30-strings-lesson-4-2.ipynb\n",
    "categories: [Strings and Functions]\n",
    "---"
   ]
  },
  {
   "cell_type": "markdown",
   "metadata": {},
   "source": [
    "# Lesson 4.2: Strings and Functions\n",
    "\n",
    "### Categories: Collaboration\n",
    "\n",
    "In this lesson, we'll explore string functions in Python and how to manipulate text effectively."
   ]
  },
  {
   "cell_type": "markdown",
   "metadata": {},
   "source": [
    "## Understanding String Functions\n",
    "There are a variety of built-in functions for string writing and manipulation. Let's dive into some useful ones!"
   ]
  },
  {
   "cell_type": "code",
   "execution_count": 1,
   "metadata": {},
   "outputs": [
    {
     "name": "stdout",
     "output_type": "stream",
     "text": [
      "lions are the only cats that live in groups\n",
      "LIONS ARE THE ONLY CATS THAT LIVE IN GROUPS\n"
     ]
    }
   ],
   "source": [
    "# Example string\n",
    "lion_fact = \"lions are the only cats that live in groups\"\n",
    "\n",
    "# Convert to lowercase and uppercase\n",
    "print(lion_fact.lower())  # Lowercase\n",
    "print(lion_fact.upper())  # Uppercase"
   ]
  },
  {
   "cell_type": "markdown",
   "metadata": {},
   "source": [
    "### Counting Occurrences\n",
    "You can count how many times a substring appears in a string using the `count()` method."
   ]
  },
  {
   "cell_type": "code",
   "execution_count": 2,
   "metadata": {},
   "outputs": [
    {
     "name": "stdout",
     "output_type": "stream",
     "text": [
      "1\n"
     ]
    }
   ],
   "source": [
    "# Count occurrences of the word 'the'\n",
    "print(lion_fact.count(\"the\"))"
   ]
  },
  {
   "cell_type": "markdown",
   "metadata": {},
   "source": [
    "### Finding Indexes\n",
    "You can find the index of a specific substring using the `find()` method."
   ]
  },
  {
   "cell_type": "code",
   "execution_count": 3,
   "metadata": {},
   "outputs": [
    {
     "name": "stdout",
     "output_type": "stream",
     "text": [
      "38\n"
     ]
    }
   ],
   "source": [
    "# Find the index of the word 'group. Index means how many characters in the sentence before you get to the beginning of the word your trying to index'\n",
    "print(lion_fact.find(\"group\"))"
   ]
  },
  {
   "cell_type": "markdown",
   "metadata": {},
   "source": [
    "### Replacing Substrings\n",
    "You can replace parts of a string with the `replace()` method. Remember, this method returns a new string!"
   ]
  },
  {
   "cell_type": "code",
   "execution_count": 4,
   "metadata": {},
   "outputs": [
    {
     "name": "stdout",
     "output_type": "stream",
     "text": [
      "giraffe are the only cats that live in groups\n",
      "giraffe are the only cats that live in groups\n"
     ]
    }
   ],
   "source": [
    "# Replace 'lion' with 'giraffe'\n",
    "new_lion_fact = lion_fact.replace('lion', 'giraffe')\n",
    "print(new_lion_fact)\n",
    "# Or replace it directly\n",
    "lion_fact = lion_fact.replace('lion', 'giraffe')\n",
    "print(lion_fact)"
   ]
  },
  {
   "cell_type": "markdown",
   "metadata": {},
   "source": [
    "### Concatenation\n",
    "You can concatenate strings using the `+` operator. However, it can get messy and clustered with many variables!"
   ]
  },
  {
   "cell_type": "code",
   "execution_count": 5,
   "metadata": {},
   "outputs": [
    {
     "name": "stdout",
     "output_type": "stream",
     "text": [
      "angelfishcatfishpufferfish\n",
      "angelfish, catfish, pufferfish\n"
     ]
    }
   ],
   "source": [
    "# Concatenate fish names\n",
    "fish = \"fish\"\n",
    "fish1 = \"angel\"\n",
    "fish2 = \"cat\"\n",
    "fish3 = \"puffer\"\n",
    "\n",
    "# Bad format\n",
    "bad_format_species = fish1 + fish + fish2 + fish + fish3 + fish\n",
    "print(bad_format_species)\n",
    "\n",
    "# Good format with commas\n",
    "good_format_species = fish1 + fish + ', ' + fish2 + fish + ', ' + fish3 + fish\n",
    "print(good_format_species)"
   ]
  },
  {
   "cell_type": "markdown",
   "metadata": {},
   "source": [
    "### Formatted Strings\n",
    "Using formatted strings makes it easier to include variables without cluttering the code."
   ]
  },
  {
   "cell_type": "code",
   "execution_count": 6,
   "metadata": {},
   "outputs": [
    {
     "name": "stdout",
     "output_type": "stream",
     "text": [
      "angelfish, catfish, and pufferfish are my favorite fish!\n"
     ]
    }
   ],
   "source": [
    "# Using formatted strings\n",
    "better_format_species = '{}{}, {}{}, and {}{} are my favorite fish!' .format(fish1,fish,fish2,fish,fish3,fish)\n",
    "print(better_format_species)"
   ]
  },
  {
   "cell_type": "markdown",
   "metadata": {},
   "source": [
   ]
  }
 ],
 "metadata": {
  "kernelspec": {
   "display_name": "Python 3",
   "language": "python",
   "name": "python3"
  },
  "language_info": {
   "codemirror_mode": {
    "name": "ipython",
    "version": 3
   },
   "file_extension": ".py",
   "mimetype": "text/x-python",
   "name": "python",
   "nbconvert_exporter": "python",
   "pygments_lexer": "ipython3",
   "version": "3.10.12"
  }
 },
 "nbformat": 4,
 "nbformat_minor": 2
}
