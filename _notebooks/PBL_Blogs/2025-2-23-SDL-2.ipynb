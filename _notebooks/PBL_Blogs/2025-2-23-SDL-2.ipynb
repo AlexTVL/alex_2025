{
 "cells": [
  {
   "cell_type": "markdown",
   "metadata": {},
   "source": [
    "---\n",
    "comments: true\n",
    "layout: post\n",
    "title: Software Development Lifecycle Part 2\n",
    "description: Testing and verification, pull requests, merging, deployment\n",
    "author: Alex Van Linge\n",
    "permalink: /_notebooks/PBL_Blogs/2025-2-23-SDL-2.ipynb/\n",
    "categories: [PBL Software Development Lifecycle]\n",
    "---"
   ]
  },
  {
   "cell_type": "markdown",
   "metadata": {},
   "source": [
    "In this blog I will discuss the second half of the Software Development Lifecycle, which include testing and verification, pull requests, merging, and deployment."
   ]
  },
  {
   "cell_type": "markdown",
   "metadata": {},
   "source": [
    "## Testing and Verification\n",
    "\n",
    "Testing is the process of evaluating a system or its components to determine whether it meets the specified requirements. It involves executing the software to identify any defects or issues and ensure that it behaves as expected.\n",
    "\n",
    "Verification is the process of ensuring that the software meets the specified requirements and is free of defects. It involves reviewing and inspecting the software to ensure it is built correctly.\n"
   ]
  },
  {
   "cell_type": "markdown",
   "metadata": {},
   "source": [
    "## Pull Requests\n",
    "\n",
    "Pull Requests are a feature in source control systems that allow developers to notify team members about changes they've pushed to a branch in a repository. A pull request is a request to merge changes from one repository to another  repository, especially with forking involved. GitHub has a built in pull request feature for repositories, making life a whole lot easier for us when we are moving changes around."
   ]
  },
  {
   "cell_type": "markdown",
   "metadata": {},
   "source": [
    "## Merging \n",
    "\n",
    "Merging is the process of combining changes from one branch into another branch. It is commonly used to integrate changes from a feature branch into the main branch or to combine changes from multiple branches into a single branch.\n",
    "\n",
    "Merge the branch with `git checkout main` and then `git merge whatever-this_is` \n",
    "\n",
    "Merge conflcits can appear if there is conflicting code, which unfortunately needs to be manually solved most of the time\n",
    "\n",
    "These are just the super basic and quick steps to merge changes on GitHub, which is thanfully a very simple process."
   ]
  },
  {
   "cell_type": "markdown",
   "metadata": {},
   "source": [
    "## Deployment\n",
    "\n",
    "Deployment is the process of making a software application available for use. This typically involves transferring the application from a development environment to a production environment where it can be accessed by users.\n",
    "\n",
    "Our development environment is VSCode, where all of the actual coding takes place, and where we test and do all sorts of things to ensure that the product we are working on is stable and functioning\n",
    "\n",
    "Our production environment is GitHub, where we push our changes from this environment to GitHub, so any user can see our work for themselves!"
   ]
  }
 ],
 "metadata": {
  "language_info": {
   "name": "python"
  }
 },
 "nbformat": 4,
 "nbformat_minor": 2
}
