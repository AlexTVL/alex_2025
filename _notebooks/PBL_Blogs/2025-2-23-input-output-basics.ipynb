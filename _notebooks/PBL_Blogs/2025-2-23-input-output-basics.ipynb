{
 "cells": [
  {
   "cell_type": "code",
   "execution_count": null,
   "metadata": {
    "vscode": {
     "languageId": "yaml"
    }
   },
   "outputs": [],
   "source": [
    "---\n",
    "comments: true\n",
    "layout: post\n",
    "title: I/O Basics\n",
    "description: HTML5 Input and Validation\n",
    "author: Alex Van Linge\n",
    "permalink: /_notebooks/PBL_Blogs/2025-2-23-input-output-basics.ipynb/\n",
    "categories: [PBL Input/Output]\n",
    "---"
   ]
  },
  {
   "cell_type": "markdown",
   "metadata": {},
   "source": [
    "In this blog, I will discuss the usage of HTML5 Input and Validation through examples, and just give a general explanation into their inner workings. "
   ]
  },
  {
   "cell_type": "markdown",
   "metadata": {},
   "source": [
    "Although usage of HTML isn't super commonplace with the code I have been working with, it still is the glue thta holds everything together, and the code below is an example of an idea I wanted to add to the game if I was given more time."
   ]
  },
  {
   "cell_type": "markdown",
   "metadata": {},
   "source": [
    "## HTML5 Input"
   ]
  },
  {
   "cell_type": "code",
   "execution_count": 2,
   "metadata": {
    "vscode": {
     "languageId": "html"
    }
   },
   "outputs": [
    {
     "data": {
      "text/html": [
       "<!DOCTYPE html>\n",
       "<html lang=\"en\">\n",
       "<head>\n",
       "    <meta charset=\"UTF-8\">\n",
       "    <meta name=\"viewport\" content=\"width=device-width, initial-scale=1.0\">\n",
       "    <title>Input and Validation Example</title>\n",
       "    <style>\n",
       "        body {\n",
       "            font-family: Arial, sans-serif;\n",
       "            margin: 20px;\n",
       "        }\n",
       "        .form-container {\n",
       "            margin-bottom: 20px;\n",
       "        }\n",
       "        .output-container {\n",
       "            margin-top: 20px;\n",
       "        }\n",
       "        .error {\n",
       "            color: red;\n",
       "        }\n",
       "    </style>\n",
       "</head>\n",
       "<body>\n",
       "    <div class=\"form-container\">\n",
       "        <h2>Enter Your Details</h2>\n",
       "        <form id=\"userForm\">\n",
       "            <label for=\"userName\">Name:</label>\n",
       "            <input type=\"text\" id=\"userName\" name=\"userName\" required>\n",
       "            <br><br>\n",
       "            <label for=\"userAge\">Age:</label>\n",
       "            <input type=\"number\" id=\"userAge\" name=\"userAge\" min=\"1\" max=\"120\" required>\n",
       "            <br><br>\n",
       "            <button type=\"submit\">Submit</button>\n",
       "        </form>\n",
       "    </div>\n",
       "    <div class=\"output-container\" id=\"outputContainer\">\n",
       "        <!-- User details will be displayed here -->\n",
       "    </div>\n",
       "\n",
       "    <script>\n",
       "        document.getElementById('userForm').addEventListener('submit', function(event) {\n",
       "            event.preventDefault(); // Prevent the form from submitting the traditional way\n",
       "\n",
       "            // Get the input values\n",
       "            const userName = document.getElementById('userName').value;\n",
       "            const userAge = document.getElementById('userAge').value;\n",
       "\n",
       "            // Validate the input values\n",
       "            if (!userName || userAge < 1 || userAge > 120) {\n",
       "                displayError('Please enter a valid name and age between 1 and 120.');\n",
       "                return;\n",
       "            }\n",
       "\n",
       "            // Display the input values\n",
       "            const outputContainer = document.getElementById('outputContainer');\n",
       "            outputContainer.innerHTML = `\n",
       "                <h2>User Details</h2>\n",
       "                <p>Name: ${userName}</p>\n",
       "                <p>Age: ${userAge}</p>\n",
       "            `;\n",
       "        });\n",
       "\n",
       "        function displayError(message) {\n",
       "            const outputContainer = document.getElementById('outputContainer');\n",
       "            outputContainer.innerHTML = `<p class=\"error\">${message}</p>`;\n",
       "        }\n",
       "    </script>\n",
       "</body>\n",
       "</html>\n"
      ],
      "text/plain": [
       "<IPython.core.display.HTML object>"
      ]
     },
     "metadata": {},
     "output_type": "display_data"
    }
   ],
   "source": [
    "%%html\n",
    "<!DOCTYPE html>\n",
    "<html lang=\"en\">\n",
    "<head>\n",
    "    <meta charset=\"UTF-8\">\n",
    "    <meta name=\"viewport\" content=\"width=device-width, initial-scale=1.0\">\n",
    "    <title>Input and Validation Example</title>\n",
    "    <style>\n",
    "        body {\n",
    "            font-family: Arial, sans-serif;\n",
    "            margin: 20px;\n",
    "        }\n",
    "        .form-container {\n",
    "            margin-bottom: 20px;\n",
    "        }\n",
    "        .output-container {\n",
    "            margin-top: 20px;\n",
    "        }\n",
    "        .error {\n",
    "            color: red;\n",
    "        }\n",
    "    </style>\n",
    "</head>\n",
    "<body>\n",
    "    <div class=\"form-container\">\n",
    "        <h2>Enter Your Details</h2>\n",
    "        <form id=\"userForm\">\n",
    "            <label for=\"userName\">Name:</label>\n",
    "            <input type=\"text\" id=\"userName\" name=\"userName\" required>\n",
    "            <br><br>\n",
    "            <label for=\"userAge\">Age:</label>\n",
    "            <input type=\"number\" id=\"userAge\" name=\"userAge\" min=\"1\" max=\"120\" required>\n",
    "            <br><br>\n",
    "            <button type=\"submit\">Submit</button>\n",
    "        </form>\n",
    "    </div>\n",
    "    <div class=\"output-container\" id=\"outputContainer\">\n",
    "        <!-- User details will be displayed here -->\n",
    "    </div>\n",
    "\n",
    "    <script>\n",
    "        document.getElementById('userForm').addEventListener('submit', function(event) {\n",
    "            event.preventDefault(); // Prevent the form from submitting the traditional way\n",
    "\n",
    "            // Get the input values\n",
    "            const userName = document.getElementById('userName').value;\n",
    "            const userAge = document.getElementById('userAge').value;\n",
    "\n",
    "            // Validate the input values\n",
    "            if (!userName || userAge < 1 || userAge > 120) {\n",
    "                displayError('Please enter a valid name and age between 1 and 120.');\n",
    "                return;\n",
    "            }\n",
    "\n",
    "            // Display the input values\n",
    "            const outputContainer = document.getElementById('outputContainer');\n",
    "            outputContainer.innerHTML = `\n",
    "                <h2>User Details</h2>\n",
    "                <p>Name: ${userName}</p>\n",
    "                <p>Age: ${userAge}</p>\n",
    "            `;\n",
    "        });\n",
    "\n",
    "        function displayError(message) {\n",
    "            const outputContainer = document.getElementById('outputContainer');\n",
    "            outputContainer.innerHTML = `<p class=\"error\">${message}</p>`;\n",
    "        }\n",
    "    </script>\n",
    "</body>\n",
    "</html>"
   ]
  },
  {
   "cell_type": "markdown",
   "metadata": {},
   "source": [
    "### Explanation \n",
    "\n",
    "Structure:\n",
    "\n",
    "This creates a simple HTML structure with a form inside a div with the class form-container.\n",
    "The form has two input elements: a text input for the user's name and a number input for the user's age. The form also has a submit button to process the form.\n",
    "\n",
    "CSS Styling:\n",
    "\n",
    "There is some basic CSS to style the form and the output container. The .error class is used to style error messages in red.\n",
    "\n",
    "JavaScript:\n",
    "\n",
    "There is an event listener to the form to handle the submit event. When the form is submitted, it prevents the default form submission behavior using event.preventDefault(). Then it retrieves the values of the input elements using the document.getElementById().value. It is then validated by the input values to ensure the name is not empty and the age is between 1 and 120. If the validation fails, it displays an error message using the displayError function.\n",
    "If the validation passes, it displays the input values in the outputContainer div using innerHTML.\n",
    "\n"
   ]
  }
 ],
 "metadata": {
  "kernelspec": {
   "display_name": "venv",
   "language": "python",
   "name": "python3"
  },
  "language_info": {
   "codemirror_mode": {
    "name": "ipython",
    "version": 3
   },
   "file_extension": ".py",
   "mimetype": "text/x-python",
   "name": "python",
   "nbconvert_exporter": "python",
   "pygments_lexer": "ipython3",
   "version": "3.12.3"
  }
 },
 "nbformat": 4,
 "nbformat_minor": 2
}
