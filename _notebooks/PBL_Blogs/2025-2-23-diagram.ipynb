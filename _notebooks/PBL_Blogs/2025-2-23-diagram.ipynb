{
 "cells": [
  {
   "cell_type": "code",
   "execution_count": null,
   "metadata": {
    "vscode": {
     "languageId": "yaml"
    }
   },
   "outputs": [],
   "source": [
    "---\n",
    "comments: true\n",
    "layout: post\n",
    "title: Diagram on Classes\n",
    "description: Explanation of diagram\n",
    "author: Alex Van Linge\n",
    "permalink: /_notebooks/PBL_Blogs/2025-2-23-diagram.ipynb/\n",
    "categories: [PBL Classes]\n",
    "---"
   ]
  },
  {
   "cell_type": "markdown",
   "metadata": {},
   "source": [
    "In this blog, I am going to show the diagram that me and my partner created to represent how our game basically looks with all the connected classes, and explain it"
   ]
  },
  {
   "cell_type": "markdown",
   "metadata": {},
   "source": [
    "## Diagram\n",
    "\n",
    "![diagram]({{site.baseurl}}/images/gamify/drawioDiagram.png)"
   ]
  },
  {
   "cell_type": "markdown",
   "metadata": {},
   "source": [
    "### Explanation\n",
    "\n",
    "The diagram shown here is a rough outlook on the different classes present throughout the JavaScript files in the game. The tree like structure (remember DOM) shows how the classes are inherited and passed down to different classes. The Collectibles class was the class I created for my game, managing the collectibles that are present in my level, while the Treasure class was created by my partner. Both classes inherited from the NPC as shown above, although implementation most likely slightly varies between our resepective levels/repos"
   ]
  }
 ],
 "metadata": {
  "language_info": {
   "name": "python"
  }
 },
 "nbformat": 4,
 "nbformat_minor": 2
}
