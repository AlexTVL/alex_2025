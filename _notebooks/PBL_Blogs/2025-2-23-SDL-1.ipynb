{
 "cells": [
  {
   "cell_type": "code",
   "execution_count": null,
   "metadata": {
    "vscode": {
     "languageId": "yaml"
    }
   },
   "outputs": [],
   "source": [
    "---\n",
    "comments: true\n",
    "layout: post\n",
    "title: Software Development Lifecycle Part 1\n",
    "description: Source control, forking, branching, and building\n",
    "author: Alex Van Linge\n",
    "permalink: /_notebooks/PBL_Blogs/2025-2-23-SDL-1.ipynb/\n",
    "categories: [PBL Software Development Lifecycle]\n",
    "---"
   ]
  },
  {
   "cell_type": "markdown",
   "metadata": {},
   "source": [
    "In this blog, I will be talking about various aspects of the software development lifecycle, starting with source control, forking, branching, and building."
   ]
  },
  {
   "cell_type": "markdown",
   "metadata": {},
   "source": [
    "## Source Control\n",
    "\n",
    "Source control, also known as version control, is a system that tracks changes to files and allows multiple people to collaborate on a project. It helps manage and maintain different versions of files, such as source code, documents, and other digital assets.\n",
    "\n",
    "The key component of source control is the repository, which is a storage location where project files and their version histories are kept. \n",
    "\n",
    "A great example of source control that we use is GitHub, which is a platform using Git (a version control system) that not only assists in source control, but also gives additional collaboration features as well (super helpful btw)."
   ]
  },
  {
   "cell_type": "markdown",
   "metadata": {},
   "source": [
    "## Forking\n",
    "\n",
    "Forking is a process in source control where you create a personal copy of another person's repository. GitHub is probably the most widely used tool for this, and forking allows for free experimentation without changing the original project\n",
    "\n",
    "The steps to do this process on GitHub starts with you going to the repo you want to fork and simply press \"fork\"! After that you clone it to your own local machine where you then can make whatever changes you want, and if you ever want to push those changes to the original repo, you can go through a pull request, which will be talked about later."
   ]
  },
  {
   "cell_type": "markdown",
   "metadata": {},
   "source": [
    "## Branching \n",
    "\n",
    "Branching is a feature in source control systems that allows you to create separate lines of development within a repository. Each branch can have its own set of changes, and you can switch between branches to work on different features or fixes independently.\n",
    "\n",
    "Create a Branch:\n",
    "\n",
    "`git branch new-feature (for example)`\n",
    "\n",
    "Switch to Branch\n",
    "\n",
    "`git checkout new-feature`\n",
    "\n",
    "Make changes through git adding and commiting\n",
    "\n",
    "Push the Branch:\n",
    "\n",
    "`git push origin new-feature`\n",
    "\n",
    "Merge the Branch:\n",
    "\n",
    "`git merge new-feature`\n",
    "\n",
    "Delete when done with branch\n",
    "\n",
    "`git branch -d new-feature`\n",
    "\n",
    "\n",
    "\n",
    "\n",
    "\n"
   ]
  },
  {
   "cell_type": "markdown",
   "metadata": {},
   "source": [
    "## Building \n",
    "\n",
    "Building is the process of converting source code into executable code. This process typically involves compiling the code, linking libraries, and packaging the final product. Building ensures that the code is ready to run on a target environment. Here on VSCode, we don't have to do anything fancy other than running `make` to create a localhost so we can see what our changes will look like before they are fully published"
   ]
  }
 ],
 "metadata": {
  "language_info": {
   "name": "python"
  }
 },
 "nbformat": 4,
 "nbformat_minor": 2
}
